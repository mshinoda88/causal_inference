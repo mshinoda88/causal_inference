{
  "nbformat": 4,
  "nbformat_minor": 0,
  "metadata": {
    "colab": {
      "name": "1_pseudo_correlation.ipynb",
      "provenance": [],
      "collapsed_sections": []
    },
    "kernelspec": {
      "name": "python3",
      "display_name": "Python 3"
    }
  },
  "cells": [
    {
      "cell_type": "markdown",
      "metadata": {
        "id": "VQXhIfZRu7bb"
      },
      "source": [
        "# 疑似相関\n",
        "\n",
        "Pythonプログラミングで疑似相関を確認する。"
      ]
    },
    {
      "cell_type": "markdown",
      "metadata": {
        "id": "P3r9Dbdug3Zz"
      },
      "source": [
        "## 0. 事前準備編"
      ]
    },
    {
      "cell_type": "markdown",
      "metadata": {
        "id": "wpQxbB_TXsA8"
      },
      "source": [
        "### 0-1. プログラム実行前の設定"
      ]
    },
    {
      "cell_type": "code",
      "metadata": {
        "id": "YgbDBCAoUx3u"
      },
      "source": [
        "# 乱数のシードを固定\n",
        "import random\n",
        "import numpy as np\n",
        "\n",
        "random.seed(1234)\n",
        "np.random.seed(1234)\n"
      ],
      "execution_count": 1,
      "outputs": []
    },
    {
      "cell_type": "code",
      "metadata": {
        "id": "HIK5zUKjVjwD"
      },
      "source": [
        "# 使用するパッケージ（ライブラリと関数）を定義\n",
        "# SciPy 平均0、分散1に正規化（標準化）関数\n",
        "import scipy.stats\n",
        "\n",
        "# 標準正規分布の生成用\n",
        "from numpy.random import randn\n",
        "\n",
        "# グラフの描画用\n",
        "import matplotlib.pyplot as plt\n",
        "%matplotlib inline\n"
      ],
      "execution_count": 2,
      "outputs": []
    },
    {
      "cell_type": "markdown",
      "metadata": {
        "id": "taEvjTYeXnTp"
      },
      "source": [
        "### 0-2. ZからYへ因果が存在する場合\n"
      ]
    },
    {
      "cell_type": "code",
      "metadata": {
        "id": "e19euWfrXnTo"
      },
      "source": [
        "# ノイズの生成\n",
        "num_data = 200\n",
        "e_z = randn(num_data)\n",
        "e_y = randn(num_data)\n",
        "\n",
        "# データの生成\n",
        "Z = e_z\n",
        "Y = 2*Z + e_y\n"
      ],
      "execution_count": 3,
      "outputs": []
    },
    {
      "cell_type": "code",
      "metadata": {
        "id": "155MXhLlXnTl",
        "colab": {
          "base_uri": "https://localhost:8080/"
        },
        "outputId": "49b8e65e-1d36-410b-d9d4-87e82cc6c115"
      },
      "source": [
        "# 相関係数を求める\n",
        "np.corrcoef(Z, Y)\n"
      ],
      "execution_count": 4,
      "outputs": [
        {
          "output_type": "execute_result",
          "data": {
            "text/plain": [
              "array([[1.        , 0.89379611],\n",
              "       [0.89379611, 1.        ]])"
            ]
          },
          "metadata": {
            "tags": []
          },
          "execution_count": 4
        }
      ]
    },
    {
      "cell_type": "code",
      "metadata": {
        "id": "uhxETB8sXnTb",
        "colab": {
          "base_uri": "https://localhost:8080/",
          "height": 282
        },
        "outputId": "bff5b6d9-7280-4ff5-b60d-6838437c0949"
      },
      "source": [
        "# 標準化\n",
        "Z_std = scipy.stats.zscore(Z)\n",
        "Y_std = scipy.stats.zscore(Y)\n",
        "\n",
        "# 散布図を描画\n",
        "plt.scatter(Z_std, Y_std)\n"
      ],
      "execution_count": 5,
      "outputs": [
        {
          "output_type": "execute_result",
          "data": {
            "text/plain": [
              "<matplotlib.collections.PathCollection at 0x7fe8c6575c10>"
            ]
          },
          "metadata": {
            "tags": []
          },
          "execution_count": 5
        },
        {
          "output_type": "display_data",
          "data": {
            "image/png": "[encoded data removed]",
            "text/plain": [
              "<Figure size 432x288 with 1 Axes>"
            ]
          },
          "metadata": {
            "tags": [],
            "needs_background": "light"
          }
        }
      ]
    },
    {
      "cell_type": "markdown",
      "metadata": {
        "id": "sYR8NTK9Xpkb"
      },
      "source": [
        "## 1. 疑似相関パターン１：因果が逆\n"
      ]
    },
    {
      "cell_type": "code",
      "metadata": {
        "id": "w5N1wvWiXpkc",
        "colab": {
          "base_uri": "https://localhost:8080/"
        },
        "outputId": "ec49055f-8108-4c50-f5cf-568963a58e9c"
      },
      "source": [
        "# ノイズの生成\n",
        "num_data = 200\n",
        "e_z = randn(num_data)\n",
        "e_y = randn(num_data)\n",
        "\n",
        "# データの生成\n",
        "Y = e_y\n",
        "Z = 2*Y + e_z\n",
        "\n",
        "# 相関係数を求める\n",
        "np.corrcoef(Z, Y)\n"
      ],
      "execution_count": 6,
      "outputs": [
        {
          "output_type": "execute_result",
          "data": {
            "text/plain": [
              "array([[1.        , 0.90390263],\n",
              "       [0.90390263, 1.        ]])"
            ]
          },
          "metadata": {
            "tags": []
          },
          "execution_count": 6
        }
      ]
    },
    {
      "cell_type": "code",
      "metadata": {
        "id": "0mgFdiNGXpkl",
        "colab": {
          "base_uri": "https://localhost:8080/",
          "height": 282
        },
        "outputId": "c7503518-2f77-4d42-8ed1-398bca847b52"
      },
      "source": [
        "# 標準化\n",
        "Z_std = scipy.stats.zscore(Z)\n",
        "Y_std = scipy.stats.zscore(Y)\n",
        "\n",
        "# 散布図を描画\n",
        "plt.scatter(Z_std, Y_std)\n"
      ],
      "execution_count": 7,
      "outputs": [
        {
          "output_type": "execute_result",
          "data": {
            "text/plain": [
              "<matplotlib.collections.PathCollection at 0x7fe8c64f18d0>"
            ]
          },
          "metadata": {
            "tags": []
          },
          "execution_count": 7
        },
        {
          "output_type": "display_data",
          "data": {
            "image/png": "[encoded data removed]",
            "text/plain": [
              "<Figure size 432x288 with 1 Axes>"
            ]
          },
          "metadata": {
            "tags": [],
            "needs_background": "light"
          }
        }
      ]
    },
    {
      "cell_type": "markdown",
      "metadata": {
        "id": "nW3lHT8baGGd"
      },
      "source": [
        "## 2. 疑似相関パターン２：共通の原因（交絡因子の存在）\n"
      ]
    },
    {
      "cell_type": "code",
      "metadata": {
        "id": "VV6Y6VOoaGGg",
        "colab": {
          "base_uri": "https://localhost:8080/"
        },
        "outputId": "f5add4ff-f062-4a19-a834-b5c830c40631"
      },
      "source": [
        "# ノイズの生成\n",
        "num_data = 200\n",
        "e_x = randn(num_data)\n",
        "e_y = randn(num_data)\n",
        "e_z = randn(num_data)\n",
        "\n",
        "# データの生成\n",
        "Z = 3.3*e_x + e_z\n",
        "Y = 3.3*e_x + e_y\n",
        "\n",
        "# 相関係数を求める\n",
        "np.corrcoef(Z, Y)\n"
      ],
      "execution_count": 8,
      "outputs": [
        {
          "output_type": "execute_result",
          "data": {
            "text/plain": [
              "array([[1.        , 0.90572419],\n",
              "       [0.90572419, 1.        ]])"
            ]
          },
          "metadata": {
            "tags": []
          },
          "execution_count": 8
        }
      ]
    },
    {
      "cell_type": "code",
      "metadata": {
        "id": "yRzrQfzjaGGp",
        "colab": {
          "base_uri": "https://localhost:8080/",
          "height": 282
        },
        "outputId": "c5615463-8d6d-45ef-bc89-992bd9587ad0"
      },
      "source": [
        "# 標準化\n",
        "Z_std = scipy.stats.zscore(Z)\n",
        "Y_std = scipy.stats.zscore(Y)\n",
        "\n",
        "# 散布図を描画\n",
        "plt.scatter(Z_std, Y_std)\n"
      ],
      "execution_count": 9,
      "outputs": [
        {
          "output_type": "execute_result",
          "data": {
            "text/plain": [
              "<matplotlib.collections.PathCollection at 0x7fe8c6025750>"
            ]
          },
          "metadata": {
            "tags": []
          },
          "execution_count": 9
        },
        {
          "output_type": "display_data",
          "data": {
            "image/png": "[encoded data removed]",
            "text/plain": [
              "<Figure size 432x288 with 1 Axes>"
            ]
          },
          "metadata": {
            "tags": [],
            "needs_background": "light"
          }
        }
      ]
    },
    {
      "cell_type": "markdown",
      "metadata": {
        "id": "3qAbjVueaqa-"
      },
      "source": [
        "## 3. 疑似相関パターン３：合流点での選抜\n",
        "\n"
      ]
    },
    {
      "cell_type": "code",
      "metadata": {
        "id": "c6oCMPXZaqbE",
        "colab": {
          "base_uri": "https://localhost:8080/",
          "height": 282
        },
        "outputId": "90672b37-8251-49eb-faf0-90dd402e6a8b"
      },
      "source": [
        "# ノイズの生成\n",
        "num_data = 600\n",
        "e_x = randn(num_data)\n",
        "e_y = randn(num_data)\n",
        "\n",
        "# データの生成 1\n",
        "x = e_x\n",
        "y = e_y\n",
        "\n",
        "# 散布図を描画\n",
        "plt.scatter(x, y)\n"
      ],
      "execution_count": 10,
      "outputs": [
        {
          "output_type": "execute_result",
          "data": {
            "text/plain": [
              "<matplotlib.collections.PathCollection at 0x7fe8c5f9b910>"
            ]
          },
          "metadata": {
            "tags": []
          },
          "execution_count": 10
        },
        {
          "output_type": "display_data",
          "data": {
            "image/png": "[encoded data removed]",
            "text/plain": [
              "<Figure size 432x288 with 1 Axes>"
            ]
          },
          "metadata": {
            "tags": [],
            "needs_background": "light"
          }
        }
      ]
    },
    {
      "cell_type": "code",
      "metadata": {
        "id": "8QnH-TXSeVmF",
        "colab": {
          "base_uri": "https://localhost:8080/"
        },
        "outputId": "22716b2c-ec4e-4b2f-944c-29ae96c98830"
      },
      "source": [
        "# 相関係数を求める\n",
        "np.corrcoef(x, y)\n"
      ],
      "execution_count": 11,
      "outputs": [
        {
          "output_type": "execute_result",
          "data": {
            "text/plain": [
              "array([[1.        , 0.00996848],\n",
              "       [0.00996848, 1.        ]])"
            ]
          },
          "metadata": {
            "tags": []
          },
          "execution_count": 11
        }
      ]
    },
    {
      "cell_type": "code",
      "metadata": {
        "id": "FwsqmncZfH5X",
        "colab": {
          "base_uri": "https://localhost:8080/",
          "height": 282
        },
        "outputId": "68b49992-c1eb-4f2a-bb51-e745b7749405"
      },
      "source": [
        "# 合流点を作成\n",
        "z = x + y\n",
        "\n",
        "# 新たな合流点での条件を満たす変数の用意\n",
        "x_new = np.array([])\n",
        "y_new = np.array([])\n",
        "\n",
        "# zの値が0以上で選抜してnew変数に追加（append）します\n",
        "for i in range(num_data):\n",
        "  if z[i] > 0.0:\n",
        "    x_new = np.append(x_new, x[i])\n",
        "    y_new = np.append(y_new, y[i])\n",
        "\n",
        "# 散布図を描画\n",
        "plt.scatter(x_new, y_new)\n"
      ],
      "execution_count": 12,
      "outputs": [
        {
          "output_type": "execute_result",
          "data": {
            "text/plain": [
              "<matplotlib.collections.PathCollection at 0x7fe8c601a2d0>"
            ]
          },
          "metadata": {
            "tags": []
          },
          "execution_count": 12
        },
        {
          "output_type": "display_data",
          "data": {
            "image/png": "[encoded data removed]",
            "text/plain": [
              "<Figure size 432x288 with 1 Axes>"
            ]
          },
          "metadata": {
            "tags": [],
            "needs_background": "light"
          }
        }
      ]
    },
    {
      "cell_type": "code",
      "metadata": {
        "id": "3rnlM5zzaqbL",
        "colab": {
          "base_uri": "https://localhost:8080/"
        },
        "outputId": "35bbf598-a423-41b8-c253-146ca388848d"
      },
      "source": [
        "# 相関係数を求める\n",
        "np.corrcoef(x_new, y_new)\n"
      ],
      "execution_count": 13,
      "outputs": [
        {
          "output_type": "execute_result",
          "data": {
            "text/plain": [
              "array([[ 1.        , -0.48132747],\n",
              "       [-0.48132747,  1.        ]])"
            ]
          },
          "metadata": {
            "tags": []
          },
          "execution_count": 13
        }
      ]
    }
  ]
}